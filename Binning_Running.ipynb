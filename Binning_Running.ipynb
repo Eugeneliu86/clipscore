{
  "cells": [
    {
      "cell_type": "code",
      "execution_count": null,
      "metadata": {
        "colab": {
          "base_uri": "https://localhost:8080/"
        },
        "id": "fICCov5JukbI",
        "outputId": "2dff6f34-3c80-4d04-99a5-206893448b97"
      },
      "outputs": [
        {
          "name": "stdout",
          "output_type": "stream",
          "text": [
            "Mounted at /content/gdrive\n"
          ]
        }
      ],
      "source": [
        "from google.colab import drive\n",
        "drive.mount('/content/gdrive')"
      ]
    },
    {
      "cell_type": "code",
      "execution_count": null,
      "metadata": {
        "colab": {
          "base_uri": "https://localhost:8080/"
        },
        "id": "zQbsWIzoC44E",
        "outputId": "8442569d-fe0d-42bc-a837-ba69ecf458f8"
      },
      "outputs": [
        {
          "name": "stdout",
          "output_type": "stream",
          "text": [
            "/\n"
          ]
        }
      ],
      "source": [
        "%cd .."
      ]
    },
    {
      "cell_type": "code",
      "execution_count": null,
      "metadata": {
        "colab": {
          "base_uri": "https://localhost:8080/"
        },
        "id": "6YxuzdADDDcA",
        "outputId": "bf679dc7-5493-4f65-8c6b-914ee8444af8"
      },
      "outputs": [
        {
          "name": "stdout",
          "output_type": "stream",
          "text": [
            "Cloning into 'clipscore'...\n",
            "remote: Enumerating objects: 8242, done.\u001b[K\n",
            "remote: Counting objects: 100% (137/137), done.\u001b[K\n",
            "remote: Compressing objects: 100% (81/81), done.\u001b[K\n",
            "remote: Total 8242 (delta 56), reused 122 (delta 52), pack-reused 8105\u001b[K\n",
            "Receiving objects: 100% (8242/8242), 1.04 GiB | 12.65 MiB/s, done.\n",
            "Resolving deltas: 100% (60/60), done.\n",
            "Updating files: 100% (8140/8140), done.\n"
          ]
        }
      ],
      "source": [
        "!git clone https://github.com/Eugeneliu86/clipscore.git"
      ]
    },
    {
      "cell_type": "code",
      "execution_count": null,
      "metadata": {
        "colab": {
          "base_uri": "https://localhost:8080/"
        },
        "id": "v3blfftmEBYr",
        "outputId": "50ef955c-ab1a-4ffe-a38c-9a8f56e4d9cc"
      },
      "outputs": [
        {
          "name": "stdout",
          "output_type": "stream",
          "text": [
            "/content/gdrive/MyDrive/clipscore\n"
          ]
        }
      ],
      "source": [
        "%cd /content/gdrive/MyDrive/clipscore"
      ]
    },
    {
      "cell_type": "code",
      "execution_count": null,
      "metadata": {
        "colab": {
          "base_uri": "https://localhost:8080/"
        },
        "id": "89m1prqRmU44",
        "outputId": "0b4380f6-3a31-45ac-a4e8-454ae468e01d"
      },
      "outputs": [
        {
          "name": "stdout",
          "output_type": "stream",
          "text": [
            "/content/gdrive/MyDrive/clipscore/clipscore\n"
          ]
        }
      ],
      "source": [
        "%cd /content/gdrive/MyDrive/clipscore/clipscore"
      ]
    },
    {
      "cell_type": "code",
      "execution_count": null,
      "metadata": {
        "colab": {
          "base_uri": "https://localhost:8080/"
        },
        "id": "UU8rn-ubd91-",
        "outputId": "dd79fac7-c1ed-479b-df66-74703a34e952"
      },
      "outputs": [
        {
          "name": "stdout",
          "output_type": "stream",
          "text": [
            "remote: Enumerating objects: 7, done.\u001b[K\n",
            "remote: Counting objects:  14% (1/7)\u001b[K\rremote: Counting objects:  28% (2/7)\u001b[K\rremote: Counting objects:  42% (3/7)\u001b[K\rremote: Counting objects:  57% (4/7)\u001b[K\rremote: Counting objects:  71% (5/7)\u001b[K\rremote: Counting objects:  85% (6/7)\u001b[K\rremote: Counting objects: 100% (7/7)\u001b[K\rremote: Counting objects: 100% (7/7), done.\u001b[K\n",
            "remote: Compressing objects: 100% (1/1)\u001b[K\rremote: Compressing objects: 100% (1/1), done.\u001b[K\n",
            "remote: Total 4 (delta 3), reused 4 (delta 3), pack-reused 0\u001b[K\n",
            "Unpacking objects: 100% (4/4), 328 bytes | 0 bytes/s, done.\n",
            "From https://github.com/Eugeneliu86/clipscore\n",
            "   e5b1002..d56f383  main       -> origin/main\n",
            "Updating e5b1002..d56f383\n",
            "Fast-forward\n",
            " flickr8k_example/binning.py | 2 \u001b[32m+\u001b[m\u001b[31m-\u001b[m\n",
            " 1 file changed, 1 insertion(+), 1 deletion(-)\n"
          ]
        }
      ],
      "source": [
        "!git pull"
      ]
    },
    {
      "cell_type": "markdown",
      "metadata": {
        "id": "htrU-Ra4lFBh"
      },
      "source": [
        "# New Section"
      ]
    },
    {
      "cell_type": "code",
      "execution_count": null,
      "metadata": {
        "colab": {
          "base_uri": "https://localhost:8080/"
        },
        "id": "eXxcELPA6Jxr",
        "outputId": "1974e64a-1265-4a78-aa69-b5aa04f964cf"
      },
      "outputs": [
        {
          "name": "stdout",
          "output_type": "stream",
          "text": [
            "Looking in indexes: https://pypi.org/simple, https://us-python.pkg.dev/colab-wheels/public/simple/\n",
            "Collecting git+https://github.com/openai/CLIP.git (from -r requirements.txt (line 1))\n",
            "  Cloning https://github.com/openai/CLIP.git to /tmp/pip-req-build-pkjnvhsc\n",
            "  Running command git clone --filter=blob:none --quiet https://github.com/openai/CLIP.git /tmp/pip-req-build-pkjnvhsc\n",
            "  Resolved https://github.com/openai/CLIP.git to commit a9b1bf5920416aaeaec965c25dd9e8f98c864f16\n",
            "  Preparing metadata (setup.py) ... \u001b[?25l\u001b[?25hdone\n",
            "Collecting git+https://github.com/jmhessel/pycocoevalcap.git (from -r requirements.txt (line 2))\n",
            "  Cloning https://github.com/jmhessel/pycocoevalcap.git to /tmp/pip-req-build-uncht_lq\n",
            "  Running command git clone --filter=blob:none --quiet https://github.com/jmhessel/pycocoevalcap.git /tmp/pip-req-build-uncht_lq\n",
            "  Resolved https://github.com/jmhessel/pycocoevalcap.git to commit 96b9f5c0e1b97642a945b3d15f5b6db5e5e138d2\n",
            "  Preparing metadata (setup.py) ... \u001b[?25l\u001b[?25hdone\n",
            "Collecting ftfy\n",
            "  Downloading ftfy-6.1.1-py3-none-any.whl (53 kB)\n",
            "\u001b[2K     \u001b[90m━━━━━━━━━━━━━━━━━━━━━━━━━━━━━━━━━━━━━━━━\u001b[0m \u001b[32m53.1/53.1 kB\u001b[0m \u001b[31m5.8 MB/s\u001b[0m eta \u001b[36m0:00:00\u001b[0m\n",
            "\u001b[?25hRequirement already satisfied: regex in /usr/local/lib/python3.10/dist-packages (from clip==1.0->-r requirements.txt (line 1)) (2022.10.31)\n",
            "Requirement already satisfied: tqdm in /usr/local/lib/python3.10/dist-packages (from clip==1.0->-r requirements.txt (line 1)) (4.65.0)\n",
            "Requirement already satisfied: torch in /usr/local/lib/python3.10/dist-packages (from clip==1.0->-r requirements.txt (line 1)) (2.0.0+cu118)\n",
            "Requirement already satisfied: torchvision in /usr/local/lib/python3.10/dist-packages (from clip==1.0->-r requirements.txt (line 1)) (0.15.1+cu118)\n",
            "Requirement already satisfied: pycocotools>=2.0.2 in /usr/local/lib/python3.10/dist-packages (from pycocoevalcap==1.2->-r requirements.txt (line 2)) (2.0.6)\n",
            "Requirement already satisfied: matplotlib>=2.1.0 in /usr/local/lib/python3.10/dist-packages (from pycocotools>=2.0.2->pycocoevalcap==1.2->-r requirements.txt (line 2)) (3.7.1)\n",
            "Requirement already satisfied: numpy in /usr/local/lib/python3.10/dist-packages (from pycocotools>=2.0.2->pycocoevalcap==1.2->-r requirements.txt (line 2)) (1.22.4)\n",
            "Requirement already satisfied: wcwidth>=0.2.5 in /usr/local/lib/python3.10/dist-packages (from ftfy->clip==1.0->-r requirements.txt (line 1)) (0.2.6)\n",
            "Requirement already satisfied: jinja2 in /usr/local/lib/python3.10/dist-packages (from torch->clip==1.0->-r requirements.txt (line 1)) (3.1.2)\n",
            "Requirement already satisfied: networkx in /usr/local/lib/python3.10/dist-packages (from torch->clip==1.0->-r requirements.txt (line 1)) (3.1)\n",
            "Requirement already satisfied: sympy in /usr/local/lib/python3.10/dist-packages (from torch->clip==1.0->-r requirements.txt (line 1)) (1.11.1)\n",
            "Requirement already satisfied: triton==2.0.0 in /usr/local/lib/python3.10/dist-packages (from torch->clip==1.0->-r requirements.txt (line 1)) (2.0.0)\n",
            "Requirement already satisfied: typing-extensions in /usr/local/lib/python3.10/dist-packages (from torch->clip==1.0->-r requirements.txt (line 1)) (4.5.0)\n",
            "Requirement already satisfied: filelock in /usr/local/lib/python3.10/dist-packages (from torch->clip==1.0->-r requirements.txt (line 1)) (3.12.0)\n",
            "Requirement already satisfied: lit in /usr/local/lib/python3.10/dist-packages (from triton==2.0.0->torch->clip==1.0->-r requirements.txt (line 1)) (16.0.2)\n",
            "Requirement already satisfied: cmake in /usr/local/lib/python3.10/dist-packages (from triton==2.0.0->torch->clip==1.0->-r requirements.txt (line 1)) (3.25.2)\n",
            "Requirement already satisfied: requests in /usr/local/lib/python3.10/dist-packages (from torchvision->clip==1.0->-r requirements.txt (line 1)) (2.27.1)\n",
            "Requirement already satisfied: pillow!=8.3.*,>=5.3.0 in /usr/local/lib/python3.10/dist-packages (from torchvision->clip==1.0->-r requirements.txt (line 1)) (8.4.0)\n",
            "Requirement already satisfied: contourpy>=1.0.1 in /usr/local/lib/python3.10/dist-packages (from matplotlib>=2.1.0->pycocotools>=2.0.2->pycocoevalcap==1.2->-r requirements.txt (line 2)) (1.0.7)\n",
            "Requirement already satisfied: packaging>=20.0 in /usr/local/lib/python3.10/dist-packages (from matplotlib>=2.1.0->pycocotools>=2.0.2->pycocoevalcap==1.2->-r requirements.txt (line 2)) (23.1)\n",
            "Requirement already satisfied: fonttools>=4.22.0 in /usr/local/lib/python3.10/dist-packages (from matplotlib>=2.1.0->pycocotools>=2.0.2->pycocoevalcap==1.2->-r requirements.txt (line 2)) (4.39.3)\n",
            "Requirement already satisfied: cycler>=0.10 in /usr/local/lib/python3.10/dist-packages (from matplotlib>=2.1.0->pycocotools>=2.0.2->pycocoevalcap==1.2->-r requirements.txt (line 2)) (0.11.0)\n",
            "Requirement already satisfied: pyparsing>=2.3.1 in /usr/local/lib/python3.10/dist-packages (from matplotlib>=2.1.0->pycocotools>=2.0.2->pycocoevalcap==1.2->-r requirements.txt (line 2)) (3.0.9)\n",
            "Requirement already satisfied: kiwisolver>=1.0.1 in /usr/local/lib/python3.10/dist-packages (from matplotlib>=2.1.0->pycocotools>=2.0.2->pycocoevalcap==1.2->-r requirements.txt (line 2)) (1.4.4)\n",
            "Requirement already satisfied: python-dateutil>=2.7 in /usr/local/lib/python3.10/dist-packages (from matplotlib>=2.1.0->pycocotools>=2.0.2->pycocoevalcap==1.2->-r requirements.txt (line 2)) (2.8.2)\n",
            "Requirement already satisfied: MarkupSafe>=2.0 in /usr/local/lib/python3.10/dist-packages (from jinja2->torch->clip==1.0->-r requirements.txt (line 1)) (2.1.2)\n",
            "Requirement already satisfied: urllib3<1.27,>=1.21.1 in /usr/local/lib/python3.10/dist-packages (from requests->torchvision->clip==1.0->-r requirements.txt (line 1)) (1.26.15)\n",
            "Requirement already satisfied: certifi>=2017.4.17 in /usr/local/lib/python3.10/dist-packages (from requests->torchvision->clip==1.0->-r requirements.txt (line 1)) (2022.12.7)\n",
            "Requirement already satisfied: charset-normalizer~=2.0.0 in /usr/local/lib/python3.10/dist-packages (from requests->torchvision->clip==1.0->-r requirements.txt (line 1)) (2.0.12)\n",
            "Requirement already satisfied: idna<4,>=2.5 in /usr/local/lib/python3.10/dist-packages (from requests->torchvision->clip==1.0->-r requirements.txt (line 1)) (3.4)\n",
            "Requirement already satisfied: mpmath>=0.19 in /usr/local/lib/python3.10/dist-packages (from sympy->torch->clip==1.0->-r requirements.txt (line 1)) (1.3.0)\n",
            "Requirement already satisfied: six>=1.5 in /usr/local/lib/python3.10/dist-packages (from python-dateutil>=2.7->matplotlib>=2.1.0->pycocotools>=2.0.2->pycocoevalcap==1.2->-r requirements.txt (line 2)) (1.16.0)\n",
            "Building wheels for collected packages: clip, pycocoevalcap\n",
            "  Building wheel for clip (setup.py) ... \u001b[?25l\u001b[?25hdone\n",
            "  Created wheel for clip: filename=clip-1.0-py3-none-any.whl size=1369398 sha256=64cd658d8712eaee9d6f65139315d8af8d26ab83312e0ada3906222cbb116428\n",
            "  Stored in directory: /tmp/pip-ephem-wheel-cache-uklsw_nj/wheels/da/2b/4c/d6691fa9597aac8bb85d2ac13b112deb897d5b50f5ad9a37e4\n",
            "  Building wheel for pycocoevalcap (setup.py) ... \u001b[?25l\u001b[?25hdone\n",
            "  Created wheel for pycocoevalcap: filename=pycocoevalcap-1.2-py3-none-any.whl size=104316338 sha256=d769693e58d3f34893bede06c29c20e53e42de7f687357c8977b86038f3bcef9\n",
            "  Stored in directory: /tmp/pip-ephem-wheel-cache-uklsw_nj/wheels/30/b0/ed/ed2f6b552a910abc2ec7a3cdb8fc1512a8ff60e743bbb4aed5\n",
            "Successfully built clip pycocoevalcap\n",
            "Installing collected packages: ftfy, pycocoevalcap, clip\n",
            "Successfully installed clip-1.0 ftfy-6.1.1 pycocoevalcap-1.2\n"
          ]
        }
      ],
      "source": [
        "! pip install -r requirements.txt\n"
      ]
    },
    {
      "cell_type": "code",
      "execution_count": null,
      "metadata": {
        "colab": {
          "base_uri": "https://localhost:8080/"
        },
        "id": "IBNUJAotnGl7",
        "outputId": "c3b77d31-9978-4869-c445-edbad96a5c03"
      },
      "outputs": [
        {
          "name": "stdout",
          "output_type": "stream",
          "text": [
            "/content/gdrive/MyDrive/clipscore/clipscore/flickr8k_example\n"
          ]
        }
      ],
      "source": [
        "%cd /content/gdrive/MyDrive/clipscore/clipscore/flickr8k_example"
      ]
    },
    {
      "cell_type": "code",
      "execution_count": null,
      "metadata": {
        "colab": {
          "base_uri": "https://localhost:8080/"
        },
        "id": "z8FXWyvinNZG",
        "outputId": "7e141f54-8632-4464-e49a-3d4e23a15d9d"
      },
      "outputs": [
        {
          "name": "stdout",
          "output_type": "stream",
          "text": [
            "Flickr8K Expert (Tau-c)\n",
            "Loaded 1000 images\n",
            "100%|████████████████████████████████████████| 338M/338M [00:01<00:00, 299MiB/s]\n",
            "/usr/local/lib/python3.10/dist-packages/torch/utils/data/dataloader.py:561: UserWarning: This DataLoader will create 8 worker processes in total. Our suggested max number of worker in current system is 2, which is smaller than what this DataLoader is going to create. Please be aware that excessive worker creation might get DataLoader running slow or even freeze, lower the worker number to avoid potential slowness/freeze if necessary.\n",
            "  warnings.warn(_create_warning_msg(\n",
            "100% 266/266 [02:49<00:00,  1.57it/s]\n",
            "100% 67/67 [00:12<00:00,  5.31it/s]\n",
            "/content/gdrive/MyDrive/clipscore/clipscore/flickr8k_example/../clipscore.py:213: UserWarning: due to a numerical instability, new numpy normalization is slightly different than paper results. to exactly replicate paper results, please use numpy version less than 1.21, e.g., 1.20.3.\n",
            "  warnings.warn(\n",
            "100% 67/67 [00:12<00:00,  5.38it/s]\n",
            "/content/gdrive/MyDrive/clipscore/clipscore/flickr8k_example/../clipscore.py:155: UserWarning: due to a numerical instability, new numpy normalization is slightly different than paper results. to exactly replicate paper results, please use numpy version less than 1.21, e.g., 1.20.3.\n",
            "  warnings.warn(\n",
            "CLIPScore dot Tau-c: 51.442\n",
            "CLIPScore cos Tau-c: 51.443\n",
            "Flickr8K CrowdFlower (Tau-b)\n",
            "Loaded 1000 images\n",
            "100% 748/748 [07:19<00:00,  1.70it/s]\n",
            "100% 187/187 [00:35<00:00,  5.27it/s]\n",
            "100% 187/187 [00:35<00:00,  5.22it/s]\n",
            "CLIPScore dot Tau-b: 34.357\n",
            "CLIPScore cos Tau-b: 34.352\n"
          ]
        }
      ],
      "source": [
        "!python3 compute_metrics.py\n"
      ]
    },
    {
      "cell_type": "code",
      "execution_count": null,
      "metadata": {
        "colab": {
          "base_uri": "https://localhost:8080/"
        },
        "id": "YHvQImSHEN49",
        "outputId": "ec78a5c0-3170-4a10-834e-8f4672e3ebb9"
      },
      "outputs": [
        {
          "name": "stdout",
          "output_type": "stream",
          "text": [
            "100%|████████████████████████████████████████| 338M/338M [00:01<00:00, 249MiB/s]\n",
            "/usr/local/lib/python3.9/dist-packages/torch/utils/data/dataloader.py:561: UserWarning: This DataLoader will create 8 worker processes in total. Our suggested max number of worker in current system is 2, which is smaller than what this DataLoader is going to create. Please be aware that excessive worker creation might get DataLoader running slow or even freeze, lower the worker number to avoid potential slowness/freeze if necessary.\n",
            "  warnings.warn(_create_warning_msg(\n",
            "100% 127/127 [01:28<00:00,  1.44it/s]\n",
            "100% 32/32 [00:06<00:00,  4.90it/s]\n",
            "/content/gdrive/MyDrive/clipscore/clipscore/clipscore.py:213: UserWarning: due to a numerical instability, new numpy normalization is slightly different than paper results. to exactly replicate paper results, please use numpy version less than 1.21, e.g., 1.20.3.\n",
            "  warnings.warn(\n",
            "100% 32/32 [00:07<00:00,  4.24it/s]\n",
            "/content/gdrive/MyDrive/clipscore/clipscore/clipscore.py:155: UserWarning: due to a numerical instability, new numpy normalization is slightly different than paper results. to exactly replicate paper results, please use numpy version less than 1.21, e.g., 1.20.3.\n",
            "  warnings.warn(\n",
            "100% 32/32 [00:06<00:00,  4.83it/s]\n",
            "/content/gdrive/MyDrive/clipscore/clipscore/clipscore.py:185: UserWarning: due to a numerical instability, new numpy normalization is slightly different than paper results. to exactly replicate paper results, please use numpy version less than 1.21, e.g., 1.20.3.\n",
            "  warnings.warn(\n"
          ]
        }
      ],
      "source": [
        "!python3 clipscore.py flicker_captions.json Images_flicker/"
      ]
    },
    {
      "cell_type": "code",
      "execution_count": null,
      "metadata": {
        "colab": {
          "base_uri": "https://localhost:8080/"
        },
        "id": "QTmCtyfis1br",
        "outputId": "10d9b33f-1caa-4f29-9a83-c1c1e86d9e93"
      },
      "outputs": [
        {
          "name": "stdout",
          "output_type": "stream",
          "text": [
            "/content/gdrive/MyDrive/clipscore\n"
          ]
        }
      ],
      "source": [
        "%cd .."
      ]
    },
    {
      "cell_type": "code",
      "execution_count": null,
      "metadata": {
        "id": "SoLeRMwKtSbX"
      },
      "outputs": [],
      "source": [
        "%mv binning.py /content/gdrive/MyDrive/clipscore/clipscore/flickr8k_example"
      ]
    },
    {
      "cell_type": "code",
      "execution_count": null,
      "metadata": {
        "colab": {
          "background_save": true,
          "base_uri": "https://localhost:8080/"
        },
        "id": "-ArN3-yJsxdW",
        "outputId": "af7254dc-7727-4c76-8f81-8296fd90a635"
      },
      "outputs": [
        {
          "name": "stdout",
          "output_type": "stream",
          "text": [
            "Loaded 1000 images\n",
            "/content/gdrive/MyDrive/clipscore/clipscore/flickr8k_example/binning.py:37: UserWarning: CLIP runs in full float32 on CPU. Results in paper were computed on GPU, which uses float16. If you're reporting results on CPU, please note this when you report.\n",
            "  warnings.warn(\n",
            "100%|███████████████████████████████████████| 338M/338M [00:06<00:00, 58.7MiB/s]\n",
            "/usr/local/lib/python3.10/dist-packages/torch/utils/data/dataloader.py:561: UserWarning: This DataLoader will create 8 worker processes in total. Our suggested max number of worker in current system is 2, which is smaller than what this DataLoader is going to create. Please be aware that excessive worker creation might get DataLoader running slow or even freeze, lower the worker number to avoid potential slowness/freeze if necessary.\n",
            "  warnings.warn(_create_warning_msg(\n",
            "100% 266/266 [59:03<00:00, 13.32s/it]\n",
            "  0% 0/67 [00:00<?, ?it/s]"
          ]
        }
      ],
      "source": [
        "!python3 binning.py "
      ]
    }
  ],
  "metadata": {
    "accelerator": "GPU",
    "colab": {
      "provenance": []
    },
    "gpuClass": "standard",
    "kernelspec": {
      "display_name": "Python 3",
      "name": "python3"
    },
    "language_info": {
      "name": "python"
    }
  },
  "nbformat": 4,
  "nbformat_minor": 0
}